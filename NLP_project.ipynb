{
  "cells": [
    {
      "cell_type": "code",
      "source": [
        "\n",
        "# Add 10 more conversations to the existing dictionary\n",
        "conversations.update({\n",
        "    3: {\n",
        "        'user': \"What's the difference between Java and JavaScript?\",\n",
        "        'chatbot': \"Java and JavaScript are different languages. Java is used for desktop applications, while JavaScript is for web development.\"\n",
        "    },\n",
        "    4: {\n",
        "        'user': \"What's an IDE?\",\n",
        "        'chatbot': \"An IDE (Integrated Development Environment) is a software application that helps programmers write, test, and debug code more efficiently.\"\n",
        "    },\n",
        "    5: {\n",
        "        'user': \"How can I improve my coding skills?\",\n",
        "        'chatbot': \"Practice regularly, work on projects, and collaborate with others. Coding challenges like LeetCode and HackerRank can also help.\"\n",
        "    },\n",
        "    6: {\n",
        "        'user': \"Can you explain the concept of 'variables' in coding?\",\n",
        "        'chatbot': \"Sure! Variables are like containers that store data in a program, such as numbers or text.\"\n",
        "    },\n",
        "    7: {\n",
        "        'user': \"What's the purpose of commenting code?\",\n",
        "        'chatbot': \"Comments explain code to make it more understandable for other developers (or your future self).\"\n",
        "    },\n",
        "    8: {\n",
        "        'user': \"How do I fix syntax errors?\",\n",
        "        'chatbot': \"Syntax errors are common. Carefully check your code for typos or missing punctuation marks.\"\n",
        "    },\n",
        "    9: {\n",
        "        'user': \"Which programming language is best for web development?\",\n",
        "        'chatbot': \"Popular languages for web development include HTML, CSS, JavaScript, and Python (Django or Flask).\"\n",
        "    },\n",
        "    10: {\n",
        "        'user': \"What's the difference between front-end and back-end development?\",\n",
        "        'chatbot': \"Front-end deals with what users see and interact with, while back-end manages server and database operations.\"\n",
        "    },\n",
        "    11: {\n",
        "        'user': \"How can I become a full-stack developer?\",\n",
        "        'chatbot': \"Learn both front-end and back-end technologies. Start with HTML, CSS, JavaScript, and then explore server-side languages like Node.js or Ruby on Rails.\"\n",
        "    },\n",
        "    12: {\n",
        "        'user': \"Can you recommend a good text editor for coding?\",\n",
        "        'chatbot': \"Many developers like VS Code, Sublime Text, and Atom. Try a few and see which one you prefer.\"\n",
        "    }\n",
        "})\n",
        "\n",
        "\n",
        "\n",
        "# Function to simulate the chatbot\n",
        "def chatbot_response(user_input):\n",
        "    if user_input == \"exit\":\n",
        "        return \"Goodbye!\"\n",
        "    try:\n",
        "        user_input = int(user_input)\n",
        "        if user_input in conversations:\n",
        "            return conversations[user_input]['chatbot']\n",
        "        else:\n",
        "            return \"I'm sorry, I don't understand that.\"\n",
        "    except ValueError:\n",
        "        return \"Please enter a conversation number or 'exit' to end the conversation.\"\n",
        "\n",
        "# Simulate a conversation with the chatbot\n",
        "while True:\n",
        "    user_input = input(\"You: \")\n",
        "    response = chatbot_response(user_input)\n",
        "    print(\"Chatbot:\", response)\n",
        "    if user_input.lower() == 'exit':\n",
        "        break\n"
      ],
      "metadata": {
        "colab": {
          "base_uri": "https://localhost:8080/"
        },
        "id": "ErTJGnjVJ7Wn",
        "outputId": "5c69fc0e-296c-4531-d967-a76791725616"
      },
      "execution_count": null,
      "outputs": [
        {
          "output_type": "stream",
          "name": "stdout",
          "text": [
            "You: What's the difference between Java and JavaScript?\n",
            "Chatbot: Please enter a conversation number or 'exit' to end the conversation.\n",
            "You: 1\n",
            "Chatbot: Hi! I recommend starting with Python. It's beginner-friendly and versatile.\n",
            "You: What's an IDE?\n",
            "Chatbot: Please enter a conversation number or 'exit' to end the conversation.\n",
            "You: 2\n",
            "Chatbot: You can try online platforms like Codecademy, Coursera, or edX for interactive programming courses.\n",
            "You: How do I fix syntax errors?\n",
            "Chatbot: Please enter a conversation number or 'exit' to end the conversation.\n",
            "You: 8\n",
            "Chatbot: Syntax errors are common. Carefully check your code for typos or missing punctuation marks.\n"
          ]
        }
      ]
    }
  ],
  "metadata": {
    "colab": {
      "provenance": []
    },
    "kernelspec": {
      "display_name": "Python 3",
      "name": "python3"
    },
    "language_info": {
      "name": "python"
    }
  },
  "nbformat": 4,
  "nbformat_minor": 0
}